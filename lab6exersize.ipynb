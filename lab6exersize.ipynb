{
 "cells": [
  {
   "cell_type": "code",
   "execution_count": 5,
   "metadata": {},
   "outputs": [
    {
     "name": "stdin",
     "output_type": "stream",
     "text": [
      "Are you a teacher or a student?  Teacher\n",
      "Enter your name please:  Spencer\n",
      "Enter something to add to your name, or leave blank if you don't want to change:  \n"
     ]
    },
    {
     "name": "stdout",
     "output_type": "stream",
     "text": [
      "Your new name is:  Spencer\n",
      "Hello professor Spencer\n"
     ]
    }
   ],
   "source": [
    "def combineName():\n",
    "    name = input(\"Enter your name please: \")\n",
    "    addition = input(\"Enter something to add to your name, or leave blank if you don't want to change: \")\n",
    "    newName = name + addition\n",
    "    print(\"Your new name is: \", newName)\n",
    "    return newName\n",
    "def greet_user():\n",
    "    user_type = input(\"Are you a teacher or a student? \").lower()\n",
    "    \n",
    "    if user_type == 'student':\n",
    "        print(\"Hello student\", combineName())\n",
    "    elif user_type == 'teacher':\n",
    "        print(\"Hello professor\", combineName())\n",
    "    else:\n",
    "        print(\"Invalid input. Please specify if you are a teacher or a student.\")\n",
    "\n",
    "# Call the functions\n",
    "greet_user()"
   ]
  },
  {
   "cell_type": "code",
   "execution_count": null,
   "metadata": {},
   "outputs": [],
   "source": []
  }
 ],
 "metadata": {
  "kernelspec": {
   "display_name": "Python 3",
   "language": "python",
   "name": "python3"
  },
  "language_info": {
   "codemirror_mode": {
    "name": "ipython",
    "version": 3
   },
   "file_extension": ".py",
   "mimetype": "text/x-python",
   "name": "python",
   "nbconvert_exporter": "python",
   "pygments_lexer": "ipython3",
   "version": "3.8.3"
  }
 },
 "nbformat": 4,
 "nbformat_minor": 4
}
