{
 "cells": [
  {
   "cell_type": "code",
   "execution_count": null,
   "metadata": {},
   "outputs": [],
   "source": [
    "def greet_user():\n",
    "    user_type = input(\"Are you a teacher or a student? \").lower()\n",
    "    \n",
    "    if user_type == 'student':\n",
    "        print(\"Hello student\", combineName())\n",
    "    elif user_type == 'teacher':\n",
    "        print(\"Hello professor\", combineName())\n",
    "    else:\n",
    "        print(\"Invalid input. Please specify if you are a teacher or a student.\")\n",
    "\n",
    "# Call the functions\n",
    "greet_user()"
   ]
  }
 ],
 "metadata": {
  "kernelspec": {
   "display_name": "Python 3",
   "language": "python",
   "name": "python3"
  },
  "language_info": {
   "codemirror_mode": {
    "name": "ipython",
    "version": 3
   },
   "file_extension": ".py",
   "mimetype": "text/x-python",
   "name": "python",
   "nbconvert_exporter": "python",
   "pygments_lexer": "ipython3",
   "version": "3.8.3"
  }
 },
 "nbformat": 4,
 "nbformat_minor": 4
}
